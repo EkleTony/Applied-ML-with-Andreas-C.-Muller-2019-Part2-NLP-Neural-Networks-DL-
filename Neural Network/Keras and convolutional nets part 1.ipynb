{
 "cells": [
  {
   "cell_type": "markdown",
   "metadata": {},
   "source": [
    "# Keras and convolutional nets"
   ]
  },
  {
   "cell_type": "code",
   "execution_count": 1,
   "metadata": {},
   "outputs": [],
   "source": [
    "import numpy as np\n",
    "import pandas as pd\n",
    "import matplotlib.pyplot as plt\n",
    "plt.rcParams['savefig.dpi'] = 300\n",
    "plt.rcParams['savefig.bbox'] = 'tight'\n",
    "from sklearn.model_selection import train_test_split, cross_val_score\n",
    "from sklearn.pipeline import make_pipeline\n",
    "from sklearn.preprocessing import scale, StandardScaler\n"
   ]
  },
  {
   "cell_type": "code",
   "execution_count": 2,
   "metadata": {},
   "outputs": [
    {
     "name": "stderr",
     "output_type": "stream",
     "text": [
      "C:\\Users\\user\\Anaconda3\\envs\\tensorflow\\lib\\site-packages\\tensorflow\\python\\framework\\dtypes.py:516: FutureWarning: Passing (type, 1) or '1type' as a synonym of type is deprecated; in a future version of numpy, it will be understood as (type, (1,)) / '(1,)type'.\n",
      "  _np_qint8 = np.dtype([(\"qint8\", np.int8, 1)])\n",
      "C:\\Users\\user\\Anaconda3\\envs\\tensorflow\\lib\\site-packages\\tensorflow\\python\\framework\\dtypes.py:517: FutureWarning: Passing (type, 1) or '1type' as a synonym of type is deprecated; in a future version of numpy, it will be understood as (type, (1,)) / '(1,)type'.\n",
      "  _np_quint8 = np.dtype([(\"quint8\", np.uint8, 1)])\n",
      "C:\\Users\\user\\Anaconda3\\envs\\tensorflow\\lib\\site-packages\\tensorflow\\python\\framework\\dtypes.py:518: FutureWarning: Passing (type, 1) or '1type' as a synonym of type is deprecated; in a future version of numpy, it will be understood as (type, (1,)) / '(1,)type'.\n",
      "  _np_qint16 = np.dtype([(\"qint16\", np.int16, 1)])\n",
      "C:\\Users\\user\\Anaconda3\\envs\\tensorflow\\lib\\site-packages\\tensorflow\\python\\framework\\dtypes.py:519: FutureWarning: Passing (type, 1) or '1type' as a synonym of type is deprecated; in a future version of numpy, it will be understood as (type, (1,)) / '(1,)type'.\n",
      "  _np_quint16 = np.dtype([(\"quint16\", np.uint16, 1)])\n",
      "C:\\Users\\user\\Anaconda3\\envs\\tensorflow\\lib\\site-packages\\tensorflow\\python\\framework\\dtypes.py:520: FutureWarning: Passing (type, 1) or '1type' as a synonym of type is deprecated; in a future version of numpy, it will be understood as (type, (1,)) / '(1,)type'.\n",
      "  _np_qint32 = np.dtype([(\"qint32\", np.int32, 1)])\n",
      "C:\\Users\\user\\Anaconda3\\envs\\tensorflow\\lib\\site-packages\\tensorflow\\python\\framework\\dtypes.py:525: FutureWarning: Passing (type, 1) or '1type' as a synonym of type is deprecated; in a future version of numpy, it will be understood as (type, (1,)) / '(1,)type'.\n",
      "  np_resource = np.dtype([(\"resource\", np.ubyte, 1)])\n"
     ]
    }
   ],
   "source": [
    "import tensorflow as tf"
   ]
  },
  {
   "cell_type": "code",
   "execution_count": 3,
   "metadata": {},
   "outputs": [],
   "source": [
    "from numpy import array\n",
    "from tensorflow.keras.preprocessing.text import one_hot\n",
    "from tensorflow.keras.preprocessing.sequence import pad_sequences\n",
    "from tensorflow.keras.models import Sequential\n",
    "from tensorflow.keras.layers import Dense\n",
    "from tensorflow.keras.layers import Flatten\n",
    "from tensorflow.keras.layers import Embedding"
   ]
  },
  {
   "cell_type": "code",
   "execution_count": 5,
   "metadata": {},
   "outputs": [],
   "source": [
    "from tensorflow.keras.layers import Activation"
   ]
  },
  {
   "cell_type": "markdown",
   "metadata": {},
   "source": [
    "# Model Building"
   ]
  },
  {
   "cell_type": "code",
   "execution_count": 32,
   "metadata": {},
   "outputs": [],
   "source": [
    "model = Sequential([\n",
    "    Dense(32, input_shape =(784,)),\n",
    "    Activation('relu'),\n",
    "    Dense(10),\n",
    "    Activation('softmax')\n",
    "])\n",
    "\n",
    "model.compile('adam', 'categorical_crossentropy', metrics=['accuracy'])"
   ]
  },
  {
   "cell_type": "code",
   "execution_count": 33,
   "metadata": {},
   "outputs": [
    {
     "name": "stdout",
     "output_type": "stream",
     "text": [
      "Model: \"sequential_3\"\n",
      "_________________________________________________________________\n",
      "Layer (type)                 Output Shape              Param #   \n",
      "=================================================================\n",
      "dense_6 (Dense)              (None, 32)                25120     \n",
      "_________________________________________________________________\n",
      "activation_6 (Activation)    (None, 32)                0         \n",
      "_________________________________________________________________\n",
      "dense_7 (Dense)              (None, 10)                330       \n",
      "_________________________________________________________________\n",
      "activation_7 (Activation)    (None, 10)                0         \n",
      "=================================================================\n",
      "Total params: 25,450\n",
      "Trainable params: 25,450\n",
      "Non-trainable params: 0\n",
      "_________________________________________________________________\n"
     ]
    }
   ],
   "source": [
    "model.summary()"
   ]
  },
  {
   "cell_type": "markdown",
   "metadata": {},
   "source": [
    "# Using the MNIST DATA"
   ]
  },
  {
   "cell_type": "code",
   "execution_count": 34,
   "metadata": {},
   "outputs": [],
   "source": [
    "from tensorflow.keras.datasets import mnist"
   ]
  },
  {
   "cell_type": "code",
   "execution_count": 35,
   "metadata": {},
   "outputs": [],
   "source": [
    "(X_train, y_train), (X_test, y_test) = mnist.load_data()"
   ]
  },
  {
   "cell_type": "code",
   "execution_count": 36,
   "metadata": {},
   "outputs": [
    {
     "name": "stdout",
     "output_type": "stream",
     "text": [
      "60000 train samples\n",
      "10000 test samples\n"
     ]
    }
   ],
   "source": [
    "X_train = X_train.reshape(60000, 784)\n",
    "X_test = X_test.reshape(10000, 784)\n",
    "X_train = X_train.astype('float32')\n",
    "X_test = X_test.astype('float32')\n",
    "X_train /=255\n",
    "X_test /=255\n",
    "print(X_train.shape[0], 'train samples')\n",
    "print(X_test.shape[0], 'test samples')\n",
    "\n",
    "\n",
    "num_classes =10\n",
    "#converting class vectors to binary class matrices\n",
    "y_train = to_categorical(y_train, num_classes)\n",
    "y_test = to_categorical(y_test, num_classes)"
   ]
  },
  {
   "cell_type": "code",
   "execution_count": 37,
   "metadata": {},
   "outputs": [],
   "source": [
    "from tensorflow.keras.utils import to_categorical"
   ]
  },
  {
   "cell_type": "code",
   "execution_count": 38,
   "metadata": {},
   "outputs": [
    {
     "name": "stdout",
     "output_type": "stream",
     "text": [
      "Train on 60000 samples\n",
      "Epoch 1/10\n",
      "60000/60000 [==============================] - 1s 24us/sample - loss: 0.4945 - accuracy: 0.8670\n",
      "Epoch 2/10\n",
      "60000/60000 [==============================] - 1s 21us/sample - loss: 0.2463 - accuracy: 0.9303\n",
      "Epoch 3/10\n",
      "60000/60000 [==============================] - 1s 21us/sample - loss: 0.2044 - accuracy: 0.9425\n",
      "Epoch 4/10\n",
      "60000/60000 [==============================] - 1s 22us/sample - loss: 0.1766 - accuracy: 0.9503\n",
      "Epoch 5/10\n",
      "60000/60000 [==============================] - 1s 21us/sample - loss: 0.1560 - accuracy: 0.9553\n",
      "Epoch 6/10\n",
      "60000/60000 [==============================] - 1s 22us/sample - loss: 0.1410 - accuracy: 0.9596\n",
      "Epoch 7/10\n",
      "60000/60000 [==============================] - 1s 22us/sample - loss: 0.1291 - accuracy: 0.9632\n",
      "Epoch 8/10\n",
      "60000/60000 [==============================] - 1s 24us/sample - loss: 0.1187 - accuracy: 0.9663\n",
      "Epoch 9/10\n",
      "60000/60000 [==============================] - 1s 23us/sample - loss: 0.1086 - accuracy: 0.9683\n",
      "Epoch 10/10\n",
      "60000/60000 [==============================] - 2s 25us/sample - loss: 0.1021 - accuracy: 0.9704\n"
     ]
    },
    {
     "data": {
      "text/plain": [
       "<tensorflow.python.keras.callbacks.History at 0x17597329d68>"
      ]
     },
     "execution_count": 38,
     "metadata": {},
     "output_type": "execute_result"
    }
   ],
   "source": [
    "model.fit(X_train, y_train, batch_size=128, epochs=10, verbose=1)"
   ]
  },
  {
   "cell_type": "markdown",
   "metadata": {},
   "source": [
    "# Model evaluation"
   ]
  },
  {
   "cell_type": "code",
   "execution_count": 43,
   "metadata": {},
   "outputs": [
    {
     "name": "stdout",
     "output_type": "stream",
     "text": [
      "Test loss: 0.115\n",
      "Test Accuracy: 0.967\n"
     ]
    }
   ],
   "source": [
    "score = model.evaluate(X_test, y_test, verbose=0)\n",
    "print('Test loss: {:.3f}'.format(score[0]))\n",
    "print('Test Accuracy: {:.3f}'.format(score[1]))"
   ]
  },
  {
   "cell_type": "code",
   "execution_count": 40,
   "metadata": {},
   "outputs": [
    {
     "name": "stdout",
     "output_type": "stream",
     "text": [
      "Train on 54000 samples, validate on 6000 samples\n",
      "Epoch 1/10\n",
      "54000/54000 [==============================] - 1s 26us/sample - loss: 0.0971 - accuracy: 0.9713 - val_loss: 0.0753 - val_accuracy: 0.9795\n",
      "Epoch 2/10\n",
      "54000/54000 [==============================] - 1s 24us/sample - loss: 0.0905 - accuracy: 0.9737 - val_loss: 0.0801 - val_accuracy: 0.9777\n",
      "Epoch 3/10\n",
      "54000/54000 [==============================] - 1s 22us/sample - loss: 0.0854 - accuracy: 0.9742 - val_loss: 0.0817 - val_accuracy: 0.9787\n",
      "Epoch 4/10\n",
      "54000/54000 [==============================] - 1s 22us/sample - loss: 0.0809 - accuracy: 0.9760 - val_loss: 0.0785 - val_accuracy: 0.9773\n",
      "Epoch 5/10\n",
      "54000/54000 [==============================] - 1s 23us/sample - loss: 0.0765 - accuracy: 0.9773 - val_loss: 0.0802 - val_accuracy: 0.9788\n",
      "Epoch 6/10\n",
      "54000/54000 [==============================] - 2s 37us/sample - loss: 0.0729 - accuracy: 0.9786 - val_loss: 0.0801 - val_accuracy: 0.9770\n",
      "Epoch 7/10\n",
      "54000/54000 [==============================] - 2s 31us/sample - loss: 0.0686 - accuracy: 0.9798 - val_loss: 0.0815 - val_accuracy: 0.9793\n",
      "Epoch 8/10\n",
      "54000/54000 [==============================] - 2s 32us/sample - loss: 0.0656 - accuracy: 0.9801 - val_loss: 0.0849 - val_accuracy: 0.9777\n",
      "Epoch 9/10\n",
      "54000/54000 [==============================] - 1s 25us/sample - loss: 0.0621 - accuracy: 0.9810 - val_loss: 0.0832 - val_accuracy: 0.9767\n",
      "Epoch 10/10\n",
      "54000/54000 [==============================] - 2s 28us/sample - loss: 0.0595 - accuracy: 0.9820 - val_loss: 0.0873 - val_accuracy: 0.9783\n"
     ]
    },
    {
     "data": {
      "text/plain": [
       "<tensorflow.python.keras.callbacks.History at 0x175977ac5c0>"
      ]
     },
     "execution_count": 40,
     "metadata": {},
     "output_type": "execute_result"
    }
   ],
   "source": [
    "model.fit(X_train, y_train, batch_size=128, epochs=10, verbose=1, validation_split=.1)"
   ]
  },
  {
   "cell_type": "markdown",
   "metadata": {},
   "source": [
    "# Evaluating on Test set"
   ]
  },
  {
   "cell_type": "code",
   "execution_count": 42,
   "metadata": {},
   "outputs": [
    {
     "name": "stdout",
     "output_type": "stream",
     "text": [
      "Test loss: 0.115\n",
      "Test Accuracy: 0.967\n"
     ]
    }
   ],
   "source": [
    "score = model.evaluate(X_test, y_test, verbose=0)\n",
    "print('Test loss: {:.3f}'.format(score[0]))\n",
    "print('Test Accuracy: {:.3f}'.format(score[1]))"
   ]
  },
  {
   "cell_type": "markdown",
   "metadata": {},
   "source": [
    "# Loggers and Callbacks"
   ]
  },
  {
   "cell_type": "code",
   "execution_count": 44,
   "metadata": {},
   "outputs": [
    {
     "name": "stdout",
     "output_type": "stream",
     "text": [
      "Train on 54000 samples, validate on 6000 samples\n",
      "Epoch 1/100\n",
      "54000/54000 [==============================] - 2s 28us/sample - loss: 0.5339 - accuracy: 0.8574 - val_loss: 0.2360 - val_accuracy: 0.9343\n",
      "Epoch 2/100\n",
      "54000/54000 [==============================] - 1s 24us/sample - loss: 0.2622 - accuracy: 0.9266 - val_loss: 0.1917 - val_accuracy: 0.9468\n",
      "Epoch 3/100\n",
      "54000/54000 [==============================] - 1s 26us/sample - loss: 0.2156 - accuracy: 0.9389 - val_loss: 0.1660 - val_accuracy: 0.9550\n",
      "Epoch 4/100\n",
      "54000/54000 [==============================] - 1s 26us/sample - loss: 0.1839 - accuracy: 0.9464 - val_loss: 0.1485 - val_accuracy: 0.9580\n",
      "Epoch 5/100\n",
      "54000/54000 [==============================] - 1s 27us/sample - loss: 0.1618 - accuracy: 0.9531 - val_loss: 0.1396 - val_accuracy: 0.9593\n",
      "Epoch 6/100\n",
      "54000/54000 [==============================] - 1s 28us/sample - loss: 0.1456 - accuracy: 0.9581 - val_loss: 0.1328 - val_accuracy: 0.9625\n",
      "Epoch 7/100\n",
      "54000/54000 [==============================] - 2s 35us/sample - loss: 0.1329 - accuracy: 0.9611 - val_loss: 0.1253 - val_accuracy: 0.9643\n",
      "Epoch 8/100\n",
      "54000/54000 [==============================] - 1s 26us/sample - loss: 0.1226 - accuracy: 0.9634 - val_loss: 0.1182 - val_accuracy: 0.9675\n",
      "Epoch 9/100\n",
      "54000/54000 [==============================] - 2s 30us/sample - loss: 0.1138 - accuracy: 0.9666 - val_loss: 0.1154 - val_accuracy: 0.9677\n",
      "Epoch 10/100\n",
      "54000/54000 [==============================] - 2s 38us/sample - loss: 0.1070 - accuracy: 0.9681 - val_loss: 0.1173 - val_accuracy: 0.9658\n",
      "Epoch 11/100\n",
      "54000/54000 [==============================] - 2s 39us/sample - loss: 0.1004 - accuracy: 0.9700 - val_loss: 0.1165 - val_accuracy: 0.9657\n",
      "Epoch 12/100\n",
      "54000/54000 [==============================] - 2s 30us/sample - loss: 0.0936 - accuracy: 0.9730 - val_loss: 0.1141 - val_accuracy: 0.9678\n",
      "Epoch 13/100\n",
      "54000/54000 [==============================] - 1s 26us/sample - loss: 0.0888 - accuracy: 0.9733 - val_loss: 0.1116 - val_accuracy: 0.9678\n",
      "Epoch 14/100\n",
      "54000/54000 [==============================] - 1s 26us/sample - loss: 0.0842 - accuracy: 0.9754 - val_loss: 0.1117 - val_accuracy: 0.9662\n",
      "Epoch 15/100\n",
      "54000/54000 [==============================] - 1s 26us/sample - loss: 0.0795 - accuracy: 0.9763 - val_loss: 0.1099 - val_accuracy: 0.9682\n",
      "Epoch 16/100\n",
      "54000/54000 [==============================] - 1s 25us/sample - loss: 0.0761 - accuracy: 0.9767 - val_loss: 0.1107 - val_accuracy: 0.9680\n",
      "Epoch 17/100\n",
      "54000/54000 [==============================] - 1s 23us/sample - loss: 0.0724 - accuracy: 0.9783 - val_loss: 0.1123 - val_accuracy: 0.9687\n",
      "Epoch 18/100\n",
      "54000/54000 [==============================] - 1s 26us/sample - loss: 0.0691 - accuracy: 0.9795 - val_loss: 0.1084 - val_accuracy: 0.9668\n",
      "Epoch 19/100\n",
      "54000/54000 [==============================] - 1s 24us/sample - loss: 0.0662 - accuracy: 0.9801 - val_loss: 0.1098 - val_accuracy: 0.9682\n",
      "Epoch 20/100\n",
      "54000/54000 [==============================] - 1s 26us/sample - loss: 0.0632 - accuracy: 0.9814 - val_loss: 0.1182 - val_accuracy: 0.9665\n",
      "Epoch 21/100\n",
      "54000/54000 [==============================] - 1s 27us/sample - loss: 0.0606 - accuracy: 0.9817 - val_loss: 0.1186 - val_accuracy: 0.9642\n",
      "Epoch 22/100\n",
      "54000/54000 [==============================] - 2s 28us/sample - loss: 0.0580 - accuracy: 0.9829 - val_loss: 0.1243 - val_accuracy: 0.9643\n",
      "Epoch 23/100\n",
      "54000/54000 [==============================] - 1s 25us/sample - loss: 0.0556 - accuracy: 0.9834 - val_loss: 0.1146 - val_accuracy: 0.9695\n",
      "Epoch 24/100\n",
      "54000/54000 [==============================] - 1s 25us/sample - loss: 0.0540 - accuracy: 0.9835 - val_loss: 0.1147 - val_accuracy: 0.9673\n",
      "Epoch 25/100\n",
      "54000/54000 [==============================] - 1s 27us/sample - loss: 0.0513 - accuracy: 0.9846 - val_loss: 0.1155 - val_accuracy: 0.9677\n",
      "Epoch 26/100\n",
      "54000/54000 [==============================] - 2s 29us/sample - loss: 0.0495 - accuracy: 0.9860 - val_loss: 0.1147 - val_accuracy: 0.9668\n",
      "Epoch 27/100\n",
      "54000/54000 [==============================] - 1s 25us/sample - loss: 0.0482 - accuracy: 0.9858 - val_loss: 0.1168 - val_accuracy: 0.9668\n",
      "Epoch 28/100\n",
      "54000/54000 [==============================] - 1s 27us/sample - loss: 0.0454 - accuracy: 0.9870 - val_loss: 0.1209 - val_accuracy: 0.9667\n",
      "Epoch 29/100\n",
      "54000/54000 [==============================] - 2s 30us/sample - loss: 0.0441 - accuracy: 0.9866 - val_loss: 0.1203 - val_accuracy: 0.9670\n",
      "Epoch 30/100\n",
      "54000/54000 [==============================] - 1s 26us/sample - loss: 0.0427 - accuracy: 0.9876 - val_loss: 0.1196 - val_accuracy: 0.9682\n",
      "Epoch 31/100\n",
      "54000/54000 [==============================] - 1s 26us/sample - loss: 0.0409 - accuracy: 0.9881 - val_loss: 0.1186 - val_accuracy: 0.9680\n",
      "Epoch 32/100\n",
      "54000/54000 [==============================] - 1s 25us/sample - loss: 0.0397 - accuracy: 0.9879 - val_loss: 0.1207 - val_accuracy: 0.9665\n",
      "Epoch 33/100\n",
      "54000/54000 [==============================] - 1s 26us/sample - loss: 0.0383 - accuracy: 0.9893 - val_loss: 0.1227 - val_accuracy: 0.9662\n",
      "Epoch 34/100\n",
      "54000/54000 [==============================] - 1s 27us/sample - loss: 0.0368 - accuracy: 0.9893 - val_loss: 0.1165 - val_accuracy: 0.9693\n",
      "Epoch 35/100\n",
      "54000/54000 [==============================] - 1s 25us/sample - loss: 0.0355 - accuracy: 0.9898 - val_loss: 0.1190 - val_accuracy: 0.9687\n",
      "Epoch 36/100\n",
      "54000/54000 [==============================] - 1s 27us/sample - loss: 0.0340 - accuracy: 0.9904 - val_loss: 0.1198 - val_accuracy: 0.9682\n",
      "Epoch 37/100\n",
      "54000/54000 [==============================] - 1s 25us/sample - loss: 0.0327 - accuracy: 0.9905 - val_loss: 0.1207 - val_accuracy: 0.9677\n",
      "Epoch 38/100\n",
      "54000/54000 [==============================] - 1s 26us/sample - loss: 0.0317 - accuracy: 0.9909 - val_loss: 0.1268 - val_accuracy: 0.9680\n",
      "Epoch 39/100\n",
      "54000/54000 [==============================] - 1s 25us/sample - loss: 0.0303 - accuracy: 0.9913 - val_loss: 0.1227 - val_accuracy: 0.9680\n",
      "Epoch 40/100\n",
      "54000/54000 [==============================] - 2s 32us/sample - loss: 0.0294 - accuracy: 0.9918 - val_loss: 0.1246 - val_accuracy: 0.9672\n",
      "Epoch 41/100\n",
      "54000/54000 [==============================] - 2s 30us/sample - loss: 0.0286 - accuracy: 0.9921 - val_loss: 0.1273 - val_accuracy: 0.9683\n",
      "Epoch 42/100\n",
      "54000/54000 [==============================] - 2s 36us/sample - loss: 0.0271 - accuracy: 0.9924 - val_loss: 0.1255 - val_accuracy: 0.9670\n",
      "Epoch 43/100\n",
      "54000/54000 [==============================] - 2s 30us/sample - loss: 0.0268 - accuracy: 0.9924 - val_loss: 0.1281 - val_accuracy: 0.9680\n",
      "Epoch 44/100\n",
      "54000/54000 [==============================] - 2s 32us/sample - loss: 0.0253 - accuracy: 0.9936 - val_loss: 0.1239 - val_accuracy: 0.9697\n",
      "Epoch 45/100\n",
      "54000/54000 [==============================] - 1s 26us/sample - loss: 0.0247 - accuracy: 0.9933 - val_loss: 0.1314 - val_accuracy: 0.9688\n",
      "Epoch 46/100\n",
      "54000/54000 [==============================] - 1s 24us/sample - loss: 0.0237 - accuracy: 0.9937 - val_loss: 0.1364 - val_accuracy: 0.9660\n",
      "Epoch 47/100\n",
      "54000/54000 [==============================] - 1s 26us/sample - loss: 0.0227 - accuracy: 0.9938 - val_loss: 0.1303 - val_accuracy: 0.9680\n",
      "Epoch 48/100\n",
      "54000/54000 [==============================] - 2s 30us/sample - loss: 0.0223 - accuracy: 0.9939 - val_loss: 0.1326 - val_accuracy: 0.9683\n",
      "Epoch 49/100\n",
      "54000/54000 [==============================] - 2s 35us/sample - loss: 0.0208 - accuracy: 0.9949 - val_loss: 0.1316 - val_accuracy: 0.9680\n",
      "Epoch 50/100\n",
      "54000/54000 [==============================] - 2s 44us/sample - loss: 0.0202 - accuracy: 0.9949 - val_loss: 0.1335 - val_accuracy: 0.9675\n",
      "Epoch 51/100\n",
      "54000/54000 [==============================] - 2s 38us/sample - loss: 0.0194 - accuracy: 0.9954 - val_loss: 0.1374 - val_accuracy: 0.9665\n",
      "Epoch 52/100\n",
      "54000/54000 [==============================] - 1s 25us/sample - loss: 0.0195 - accuracy: 0.9949 - val_loss: 0.1328 - val_accuracy: 0.9683\n",
      "Epoch 53/100\n",
      "54000/54000 [==============================] - 1s 27us/sample - loss: 0.0179 - accuracy: 0.9955 - val_loss: 0.1384 - val_accuracy: 0.9665\n",
      "Epoch 54/100\n",
      "54000/54000 [==============================] - 1s 27us/sample - loss: 0.0172 - accuracy: 0.9960 - val_loss: 0.1371 - val_accuracy: 0.9688\n"
     ]
    },
    {
     "name": "stdout",
     "output_type": "stream",
     "text": [
      "Epoch 55/100\n",
      "54000/54000 [==============================] - 1s 27us/sample - loss: 0.0172 - accuracy: 0.9959 - val_loss: 0.1382 - val_accuracy: 0.9680\n",
      "Epoch 56/100\n",
      "54000/54000 [==============================] - 1s 24us/sample - loss: 0.0163 - accuracy: 0.9960 - val_loss: 0.1368 - val_accuracy: 0.9693\n",
      "Epoch 57/100\n",
      "54000/54000 [==============================] - 1s 23us/sample - loss: 0.0162 - accuracy: 0.9959 - val_loss: 0.1403 - val_accuracy: 0.9682\n",
      "Epoch 58/100\n",
      "54000/54000 [==============================] - 1s 22us/sample - loss: 0.0154 - accuracy: 0.9963 - val_loss: 0.1447 - val_accuracy: 0.9683\n",
      "Epoch 59/100\n",
      "54000/54000 [==============================] - 1s 21us/sample - loss: 0.0143 - accuracy: 0.9967 - val_loss: 0.1446 - val_accuracy: 0.9690\n",
      "Epoch 60/100\n",
      "54000/54000 [==============================] - 1s 21us/sample - loss: 0.0141 - accuracy: 0.9970 - val_loss: 0.1412 - val_accuracy: 0.9695\n",
      "Epoch 61/100\n",
      "54000/54000 [==============================] - 1s 22us/sample - loss: 0.0135 - accuracy: 0.9971 - val_loss: 0.1498 - val_accuracy: 0.9685\n",
      "Epoch 62/100\n",
      "54000/54000 [==============================] - 1s 24us/sample - loss: 0.0130 - accuracy: 0.9973 - val_loss: 0.1457 - val_accuracy: 0.9685\n",
      "Epoch 63/100\n",
      "54000/54000 [==============================] - 1s 21us/sample - loss: 0.0131 - accuracy: 0.9973 - val_loss: 0.1511 - val_accuracy: 0.9675\n",
      "Epoch 64/100\n",
      "54000/54000 [==============================] - 1s 21us/sample - loss: 0.0120 - accuracy: 0.9974 - val_loss: 0.1531 - val_accuracy: 0.9658\n",
      "Epoch 65/100\n",
      "54000/54000 [==============================] - 1s 21us/sample - loss: 0.0119 - accuracy: 0.9977 - val_loss: 0.1484 - val_accuracy: 0.9693\n",
      "Epoch 66/100\n",
      "54000/54000 [==============================] - 1s 21us/sample - loss: 0.0107 - accuracy: 0.9981 - val_loss: 0.1542 - val_accuracy: 0.9677\n",
      "Epoch 67/100\n",
      "54000/54000 [==============================] - 1s 22us/sample - loss: 0.0112 - accuracy: 0.9977 - val_loss: 0.1505 - val_accuracy: 0.9692\n",
      "Epoch 68/100\n",
      "54000/54000 [==============================] - 1s 24us/sample - loss: 0.0101 - accuracy: 0.9983 - val_loss: 0.1540 - val_accuracy: 0.9677\n",
      "Epoch 69/100\n",
      "54000/54000 [==============================] - 1s 23us/sample - loss: 0.0099 - accuracy: 0.9982 - val_loss: 0.1612 - val_accuracy: 0.9672\n",
      "Epoch 70/100\n",
      "54000/54000 [==============================] - 1s 23us/sample - loss: 0.0099 - accuracy: 0.9981 - val_loss: 0.1792 - val_accuracy: 0.9628\n",
      "Epoch 71/100\n",
      "54000/54000 [==============================] - 1s 25us/sample - loss: 0.0094 - accuracy: 0.9984 - val_loss: 0.1608 - val_accuracy: 0.9682\n",
      "Epoch 72/100\n",
      "54000/54000 [==============================] - 1s 22us/sample - loss: 0.0088 - accuracy: 0.9986 - val_loss: 0.1604 - val_accuracy: 0.9678\n",
      "Epoch 73/100\n",
      "54000/54000 [==============================] - 1s 21us/sample - loss: 0.0086 - accuracy: 0.9984 - val_loss: 0.1636 - val_accuracy: 0.9673\n",
      "Epoch 74/100\n",
      "54000/54000 [==============================] - 1s 22us/sample - loss: 0.0084 - accuracy: 0.9987 - val_loss: 0.1633 - val_accuracy: 0.9685\n",
      "Epoch 75/100\n",
      "54000/54000 [==============================] - 1s 24us/sample - loss: 0.0081 - accuracy: 0.9988 - val_loss: 0.1662 - val_accuracy: 0.9672\n",
      "Epoch 76/100\n",
      "54000/54000 [==============================] - 1s 24us/sample - loss: 0.0075 - accuracy: 0.9989 - val_loss: 0.1726 - val_accuracy: 0.9668\n",
      "Epoch 77/100\n",
      "54000/54000 [==============================] - 1s 24us/sample - loss: 0.0070 - accuracy: 0.9991 - val_loss: 0.1679 - val_accuracy: 0.9667\n",
      "Epoch 78/100\n",
      "54000/54000 [==============================] - 1s 23us/sample - loss: 0.0072 - accuracy: 0.9987 - val_loss: 0.1694 - val_accuracy: 0.9673\n",
      "Epoch 79/100\n",
      "54000/54000 [==============================] - 1s 28us/sample - loss: 0.0070 - accuracy: 0.9989 - val_loss: 0.1685 - val_accuracy: 0.9668\n",
      "Epoch 80/100\n",
      "54000/54000 [==============================] - 2s 31us/sample - loss: 0.0069 - accuracy: 0.9990 - val_loss: 0.1733 - val_accuracy: 0.9682\n",
      "Epoch 81/100\n",
      "54000/54000 [==============================] - 2s 32us/sample - loss: 0.0062 - accuracy: 0.9994 - val_loss: 0.1775 - val_accuracy: 0.9665\n",
      "Epoch 82/100\n",
      "54000/54000 [==============================] - 1s 26us/sample - loss: 0.0061 - accuracy: 0.9991 - val_loss: 0.1783 - val_accuracy: 0.9667\n",
      "Epoch 83/100\n",
      "54000/54000 [==============================] - 1s 24us/sample - loss: 0.0057 - accuracy: 0.9993 - val_loss: 0.1768 - val_accuracy: 0.9668\n",
      "Epoch 84/100\n",
      "54000/54000 [==============================] - 1s 25us/sample - loss: 0.0057 - accuracy: 0.9992 - val_loss: 0.1792 - val_accuracy: 0.9677\n",
      "Epoch 85/100\n",
      "54000/54000 [==============================] - 1s 23us/sample - loss: 0.0049 - accuracy: 0.9996 - val_loss: 0.1768 - val_accuracy: 0.9677\n",
      "Epoch 86/100\n",
      "54000/54000 [==============================] - 1s 22us/sample - loss: 0.0059 - accuracy: 0.9991 - val_loss: 0.1753 - val_accuracy: 0.9680\n",
      "Epoch 87/100\n",
      "54000/54000 [==============================] - 1s 23us/sample - loss: 0.0065 - accuracy: 0.9988 - val_loss: 0.1865 - val_accuracy: 0.9652\n",
      "Epoch 88/100\n",
      "54000/54000 [==============================] - 1s 23us/sample - loss: 0.0053 - accuracy: 0.9994 - val_loss: 0.1849 - val_accuracy: 0.9682\n",
      "Epoch 89/100\n",
      "54000/54000 [==============================] - 1s 23us/sample - loss: 0.0045 - accuracy: 0.9995 - val_loss: 0.1848 - val_accuracy: 0.9668\n",
      "Epoch 90/100\n",
      "54000/54000 [==============================] - 1s 27us/sample - loss: 0.0041 - accuracy: 0.9996 - val_loss: 0.1823 - val_accuracy: 0.9680\n",
      "Epoch 91/100\n",
      "54000/54000 [==============================] - 1s 25us/sample - loss: 0.0038 - accuracy: 0.9996 - val_loss: 0.1891 - val_accuracy: 0.9670\n",
      "Epoch 92/100\n",
      "54000/54000 [==============================] - 1s 25us/sample - loss: 0.0055 - accuracy: 0.9991 - val_loss: 0.1836 - val_accuracy: 0.9677\n",
      "Epoch 93/100\n",
      "54000/54000 [==============================] - 1s 24us/sample - loss: 0.0046 - accuracy: 0.9995 - val_loss: 0.1828 - val_accuracy: 0.9672\n",
      "Epoch 94/100\n",
      "54000/54000 [==============================] - 1s 24us/sample - loss: 0.0034 - accuracy: 0.9998 - val_loss: 0.1901 - val_accuracy: 0.9668\n",
      "Epoch 95/100\n",
      "54000/54000 [==============================] - 1s 26us/sample - loss: 0.0038 - accuracy: 0.9996 - val_loss: 0.1887 - val_accuracy: 0.9678\n",
      "Epoch 96/100\n",
      "54000/54000 [==============================] - 2s 29us/sample - loss: 0.0043 - accuracy: 0.9994 - val_loss: 0.1943 - val_accuracy: 0.9668\n",
      "Epoch 97/100\n",
      "54000/54000 [==============================] - 1s 28us/sample - loss: 0.0045 - accuracy: 0.9994 - val_loss: 0.1960 - val_accuracy: 0.9670\n",
      "Epoch 98/100\n",
      "54000/54000 [==============================] - 1s 21us/sample - loss: 0.0032 - accuracy: 0.9997 - val_loss: 0.1885 - val_accuracy: 0.9693\n",
      "Epoch 99/100\n",
      "54000/54000 [==============================] - 1s 25us/sample - loss: 0.0027 - accuracy: 0.9999 - val_loss: 0.1945 - val_accuracy: 0.9683\n",
      "Epoch 100/100\n",
      "54000/54000 [==============================] - 1s 24us/sample - loss: 0.0040 - accuracy: 0.9994 - val_loss: 0.1999 - val_accuracy: 0.9653\n"
     ]
    }
   ],
   "source": [
    "model = Sequential([\n",
    "    Dense(32, input_shape=(784,), activation='relu'),\n",
    "    Dense(10, activation='softmax'),\n",
    "])\n",
    "model.compile(\"adam\", \"categorical_crossentropy\", metrics=['accuracy'])\n",
    "history_callback = model.fit(X_train, y_train, batch_size=128,\n",
    "                             epochs=100, verbose=1, validation_split=.1) "
   ]
  },
  {
   "cell_type": "code",
   "execution_count": 45,
   "metadata": {},
   "outputs": [],
   "source": [
    "def plot_history(logger):\n",
    "    df = pd.DataFrame(logger.history)\n",
    "    df[['acc', 'val_acc']].plot()\n",
    "    plt.ylabel('accuracy')\n",
    "    df[['loss', 'val_loss']].plot(linestyle='--', ax=plt.twinx())\n",
    "    plt.ylabel('loss')"
   ]
  },
  {
   "cell_type": "code",
   "execution_count": 51,
   "metadata": {},
   "outputs": [
    {
     "data": {
      "text/html": [
       "<div>\n",
       "<style scoped>\n",
       "    .dataframe tbody tr th:only-of-type {\n",
       "        vertical-align: middle;\n",
       "    }\n",
       "\n",
       "    .dataframe tbody tr th {\n",
       "        vertical-align: top;\n",
       "    }\n",
       "\n",
       "    .dataframe thead th {\n",
       "        text-align: right;\n",
       "    }\n",
       "</style>\n",
       "<table border=\"1\" class=\"dataframe\">\n",
       "  <thead>\n",
       "    <tr style=\"text-align: right;\">\n",
       "      <th></th>\n",
       "      <th>loss</th>\n",
       "      <th>accuracy</th>\n",
       "      <th>val_loss</th>\n",
       "      <th>val_accuracy</th>\n",
       "    </tr>\n",
       "  </thead>\n",
       "  <tbody>\n",
       "    <tr>\n",
       "      <th>0</th>\n",
       "      <td>0.533851</td>\n",
       "      <td>0.857444</td>\n",
       "      <td>0.236043</td>\n",
       "      <td>0.934333</td>\n",
       "    </tr>\n",
       "    <tr>\n",
       "      <th>1</th>\n",
       "      <td>0.262219</td>\n",
       "      <td>0.926574</td>\n",
       "      <td>0.191714</td>\n",
       "      <td>0.946833</td>\n",
       "    </tr>\n",
       "    <tr>\n",
       "      <th>2</th>\n",
       "      <td>0.215633</td>\n",
       "      <td>0.938870</td>\n",
       "      <td>0.165951</td>\n",
       "      <td>0.955000</td>\n",
       "    </tr>\n",
       "    <tr>\n",
       "      <th>3</th>\n",
       "      <td>0.183920</td>\n",
       "      <td>0.946426</td>\n",
       "      <td>0.148502</td>\n",
       "      <td>0.958000</td>\n",
       "    </tr>\n",
       "    <tr>\n",
       "      <th>4</th>\n",
       "      <td>0.161826</td>\n",
       "      <td>0.953148</td>\n",
       "      <td>0.139639</td>\n",
       "      <td>0.959333</td>\n",
       "    </tr>\n",
       "    <tr>\n",
       "      <th>...</th>\n",
       "      <td>...</td>\n",
       "      <td>...</td>\n",
       "      <td>...</td>\n",
       "      <td>...</td>\n",
       "    </tr>\n",
       "    <tr>\n",
       "      <th>95</th>\n",
       "      <td>0.004302</td>\n",
       "      <td>0.999370</td>\n",
       "      <td>0.194340</td>\n",
       "      <td>0.966833</td>\n",
       "    </tr>\n",
       "    <tr>\n",
       "      <th>96</th>\n",
       "      <td>0.004525</td>\n",
       "      <td>0.999370</td>\n",
       "      <td>0.195996</td>\n",
       "      <td>0.967000</td>\n",
       "    </tr>\n",
       "    <tr>\n",
       "      <th>97</th>\n",
       "      <td>0.003161</td>\n",
       "      <td>0.999741</td>\n",
       "      <td>0.188504</td>\n",
       "      <td>0.969333</td>\n",
       "    </tr>\n",
       "    <tr>\n",
       "      <th>98</th>\n",
       "      <td>0.002650</td>\n",
       "      <td>0.999889</td>\n",
       "      <td>0.194489</td>\n",
       "      <td>0.968333</td>\n",
       "    </tr>\n",
       "    <tr>\n",
       "      <th>99</th>\n",
       "      <td>0.004031</td>\n",
       "      <td>0.999389</td>\n",
       "      <td>0.199919</td>\n",
       "      <td>0.965333</td>\n",
       "    </tr>\n",
       "  </tbody>\n",
       "</table>\n",
       "<p>100 rows × 4 columns</p>\n",
       "</div>"
      ],
      "text/plain": [
       "        loss  accuracy  val_loss  val_accuracy\n",
       "0   0.533851  0.857444  0.236043      0.934333\n",
       "1   0.262219  0.926574  0.191714      0.946833\n",
       "2   0.215633  0.938870  0.165951      0.955000\n",
       "3   0.183920  0.946426  0.148502      0.958000\n",
       "4   0.161826  0.953148  0.139639      0.959333\n",
       "..       ...       ...       ...           ...\n",
       "95  0.004302  0.999370  0.194340      0.966833\n",
       "96  0.004525  0.999370  0.195996      0.967000\n",
       "97  0.003161  0.999741  0.188504      0.969333\n",
       "98  0.002650  0.999889  0.194489      0.968333\n",
       "99  0.004031  0.999389  0.199919      0.965333\n",
       "\n",
       "[100 rows x 4 columns]"
      ]
     },
     "execution_count": 51,
     "metadata": {},
     "output_type": "execute_result"
    }
   ],
   "source": [
    "df"
   ]
  },
  {
   "cell_type": "code",
   "execution_count": 53,
   "metadata": {},
   "outputs": [
    {
     "data": {
      "text/plain": [
       "Text(0, 0.5, 'loss')"
      ]
     },
     "execution_count": 53,
     "metadata": {},
     "output_type": "execute_result"
    },
    {
     "data": {
      "image/png": "[encoded data removed]",
      "text/plain": [
       "<Figure size 432x288 with 2 Axes>"
      ]
     },
     "metadata": {
      "needs_background": "light"
     },
     "output_type": "display_data"
    }
   ],
   "source": [
    "df = pd.DataFrame(history_callback.history)\n",
    "df[['accuracy', 'val_accuracy']].plot()\n",
    "plt.ylabel('accuracy')\n",
    "df[['loss', 'val_loss']].plot(linestyle='--', ax=plt.twinx())\n",
    "plt.ylabel('loss')"
   ]
  },
  {
   "cell_type": "code",
   "execution_count": null,
   "metadata": {},
   "outputs": [],
   "source": []
  }
 ],
 "metadata": {
  "kernelspec": {
   "display_name": "Python 3.6 (tensorflow)",
   "language": "python",
   "name": "tensorflow"
  },
  "language_info": {
   "codemirror_mode": {
    "name": "ipython",
    "version": 3
   },
   "file_extension": ".py",
   "mimetype": "text/x-python",
   "name": "python",
   "nbconvert_exporter": "python",
   "pygments_lexer": "ipython3",
   "version": "3.6.10"
  }
 },
 "nbformat": 4,
 "nbformat_minor": 4
}
