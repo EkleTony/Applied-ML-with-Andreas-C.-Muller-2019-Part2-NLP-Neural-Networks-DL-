{
 "cells": [
  {
   "cell_type": "markdown",
   "metadata": {},
   "source": [
    "# Keras and convolutional nets"
   ]
  },
  {
   "cell_type": "code",
   "execution_count": 1,
   "metadata": {},
   "outputs": [],
   "source": [
    "import numpy as np\n",
    "import pandas as pd\n",
    "import matplotlib.pyplot as plt\n",
    "plt.rcParams['savefig.dpi'] = 300\n",
    "plt.rcParams['savefig.bbox'] = 'tight'\n",
    "from sklearn.model_selection import train_test_split, cross_val_score\n",
    "from sklearn.pipeline import make_pipeline\n",
    "from sklearn.preprocessing import scale, StandardScaler"
   ]
  },
  {
   "cell_type": "code",
   "execution_count": 2,
   "metadata": {},
   "outputs": [
    {
     "name": "stderr",
     "output_type": "stream",
     "text": [
      "C:\\Users\\user\\Anaconda3\\envs\\tensorflow\\lib\\site-packages\\tensorflow\\python\\framework\\dtypes.py:516: FutureWarning: Passing (type, 1) or '1type' as a synonym of type is deprecated; in a future version of numpy, it will be understood as (type, (1,)) / '(1,)type'.\n",
      "  _np_qint8 = np.dtype([(\"qint8\", np.int8, 1)])\n",
      "C:\\Users\\user\\Anaconda3\\envs\\tensorflow\\lib\\site-packages\\tensorflow\\python\\framework\\dtypes.py:517: FutureWarning: Passing (type, 1) or '1type' as a synonym of type is deprecated; in a future version of numpy, it will be understood as (type, (1,)) / '(1,)type'.\n",
      "  _np_quint8 = np.dtype([(\"quint8\", np.uint8, 1)])\n",
      "C:\\Users\\user\\Anaconda3\\envs\\tensorflow\\lib\\site-packages\\tensorflow\\python\\framework\\dtypes.py:518: FutureWarning: Passing (type, 1) or '1type' as a synonym of type is deprecated; in a future version of numpy, it will be understood as (type, (1,)) / '(1,)type'.\n",
      "  _np_qint16 = np.dtype([(\"qint16\", np.int16, 1)])\n",
      "C:\\Users\\user\\Anaconda3\\envs\\tensorflow\\lib\\site-packages\\tensorflow\\python\\framework\\dtypes.py:519: FutureWarning: Passing (type, 1) or '1type' as a synonym of type is deprecated; in a future version of numpy, it will be understood as (type, (1,)) / '(1,)type'.\n",
      "  _np_quint16 = np.dtype([(\"quint16\", np.uint16, 1)])\n",
      "C:\\Users\\user\\Anaconda3\\envs\\tensorflow\\lib\\site-packages\\tensorflow\\python\\framework\\dtypes.py:520: FutureWarning: Passing (type, 1) or '1type' as a synonym of type is deprecated; in a future version of numpy, it will be understood as (type, (1,)) / '(1,)type'.\n",
      "  _np_qint32 = np.dtype([(\"qint32\", np.int32, 1)])\n",
      "C:\\Users\\user\\Anaconda3\\envs\\tensorflow\\lib\\site-packages\\tensorflow\\python\\framework\\dtypes.py:525: FutureWarning: Passing (type, 1) or '1type' as a synonym of type is deprecated; in a future version of numpy, it will be understood as (type, (1,)) / '(1,)type'.\n",
      "  np_resource = np.dtype([(\"resource\", np.ubyte, 1)])\n"
     ]
    }
   ],
   "source": [
    "import tensorflow as tf"
   ]
  },
  {
   "cell_type": "code",
   "execution_count": 3,
   "metadata": {},
   "outputs": [],
   "source": [
    "from numpy import array\n",
    "from tensorflow.keras.preprocessing.text import one_hot\n",
    "from tensorflow.keras.preprocessing.sequence import pad_sequences\n",
    "from tensorflow.keras.models import Sequential\n",
    "from tensorflow.keras.layers import Dense\n",
    "from tensorflow.keras.layers import Flatten\n",
    "from tensorflow.keras.layers import Embedding"
   ]
  },
  {
   "cell_type": "code",
   "execution_count": 11,
   "metadata": {},
   "outputs": [],
   "source": [
    "from tensorflow.keras.datasets import mnist\n",
    "from tensorflow.keras.utils import to_categorical"
   ]
  },
  {
   "cell_type": "markdown",
   "metadata": {},
   "source": [
    "# Convolutions"
   ]
  },
  {
   "cell_type": "code",
   "execution_count": 13,
   "metadata": {},
   "outputs": [],
   "source": [
    "batch_size =128\n",
    "num_classes = 10\n",
    "epochs =12\n",
    "\n",
    "\n",
    "#input image dimensions\n",
    "img_rows, img_cols = 28, 28\n",
    "\n",
    "# the data, shuffled and split between train and test sets\n",
    "(x_train, y_train), (x_test, y_test) = mnist.load_data()\n",
    "\n",
    "X_train_images  = x_train.reshape(x_train.shape[0], img_rows, img_cols, 1)\n",
    "X_test_images = x_test.reshape(x_test.shape[0], img_rows, img_cols, 1)\n",
    "input_shape = (img_rows, img_cols, 1)\n",
    "\n",
    "y_train = to_categorical(y_train, num_classes)\n",
    "y_test =to_categorical(y_test, num_classes)"
   ]
  },
  {
   "cell_type": "code",
   "execution_count": 14,
   "metadata": {},
   "outputs": [],
   "source": [
    "from tensorflow.keras.layers import Conv2D, MaxPooling2D, Flatten"
   ]
  },
  {
   "cell_type": "code",
   "execution_count": 15,
   "metadata": {},
   "outputs": [],
   "source": [
    "num_classes =10\n",
    "cnn = Sequential()\n",
    "cnn.add(Conv2D(32, kernel_size=(3,3),\n",
    "              activation ='relu',\n",
    "              input_shape=input_shape))\n",
    "cnn.add(MaxPooling2D(pool_size=(2,2)))\n",
    "cnn.add(Conv2D(32, (3,3), activation='relu'))\n",
    "cnn.add(MaxPooling2D(pool_size=(2,2)))\n",
    "cnn.add(Flatten())\n",
    "cnn.add(Dense(64, activation='relu'))\n",
    "cnn.add(Dense(num_classes, activation='softmax'))"
   ]
  },
  {
   "cell_type": "code",
   "execution_count": 16,
   "metadata": {},
   "outputs": [
    {
     "name": "stdout",
     "output_type": "stream",
     "text": [
      "Model: \"sequential\"\n",
      "_________________________________________________________________\n",
      "Layer (type)                 Output Shape              Param #   \n",
      "=================================================================\n",
      "conv2d (Conv2D)              (None, 26, 26, 32)        320       \n",
      "_________________________________________________________________\n",
      "max_pooling2d (MaxPooling2D) (None, 13, 13, 32)        0         \n",
      "_________________________________________________________________\n",
      "conv2d_1 (Conv2D)            (None, 11, 11, 32)        9248      \n",
      "_________________________________________________________________\n",
      "max_pooling2d_1 (MaxPooling2 (None, 5, 5, 32)          0         \n",
      "_________________________________________________________________\n",
      "flatten (Flatten)            (None, 800)               0         \n",
      "_________________________________________________________________\n",
      "dense (Dense)                (None, 64)                51264     \n",
      "_________________________________________________________________\n",
      "dense_1 (Dense)              (None, 10)                650       \n",
      "=================================================================\n",
      "Total params: 61,482\n",
      "Trainable params: 61,482\n",
      "Non-trainable params: 0\n",
      "_________________________________________________________________\n"
     ]
    }
   ],
   "source": [
    "cnn.summary()"
   ]
  },
  {
   "cell_type": "code",
   "execution_count": 17,
   "metadata": {},
   "outputs": [
    {
     "name": "stdout",
     "output_type": "stream",
     "text": [
      "WARNING:tensorflow:From C:\\Users\\user\\Anaconda3\\envs\\tensorflow\\lib\\site-packages\\tensorflow\\python\\ops\\math_grad.py:1250: add_dispatch_support.<locals>.wrapper (from tensorflow.python.ops.array_ops) is deprecated and will be removed in a future version.\n",
      "Instructions for updating:\n",
      "Use tf.where in 2.0, which has the same broadcast rule as np.where\n",
      "Train on 54000 samples, validate on 6000 samples\n",
      "Epoch 1/20\n",
      "54000/54000 [==============================] - 43s 802us/sample - loss: 8.7599 - accuracy: 0.4288 - val_loss: 0.1217 - val_accuracy: 0.9640\n",
      "Epoch 2/20\n",
      "54000/54000 [==============================] - 45s 835us/sample - loss: 0.0966 - accuracy: 0.9711 - val_loss: 0.0698 - val_accuracy: 0.9793\n",
      "Epoch 3/20\n",
      "54000/54000 [==============================] - 48s 897us/sample - loss: 0.0558 - accuracy: 0.9830 - val_loss: 0.0575 - val_accuracy: 0.9843\n",
      "Epoch 4/20\n",
      "54000/54000 [==============================] - 62s 1ms/sample - loss: 0.0384 - accuracy: 0.9883 - val_loss: 0.0617 - val_accuracy: 0.9835\n",
      "Epoch 5/20\n",
      "54000/54000 [==============================] - 59s 1ms/sample - loss: 0.0298 - accuracy: 0.9900 - val_loss: 0.0623 - val_accuracy: 0.9830\n",
      "Epoch 6/20\n",
      "54000/54000 [==============================] - 61s 1ms/sample - loss: 0.0235 - accuracy: 0.9918 - val_loss: 0.0594 - val_accuracy: 0.9848\n",
      "Epoch 7/20\n",
      "54000/54000 [==============================] - 50s 935us/sample - loss: 0.0214 - accuracy: 0.9931 - val_loss: 0.0595 - val_accuracy: 0.9862\n",
      "Epoch 8/20\n",
      "54000/54000 [==============================] - 51s 940us/sample - loss: 0.0194 - accuracy: 0.9933 - val_loss: 0.0609 - val_accuracy: 0.9848\n",
      "Epoch 9/20\n",
      "54000/54000 [==============================] - 54s 1ms/sample - loss: 0.0174 - accuracy: 0.9940 - val_loss: 0.0666 - val_accuracy: 0.9857\n",
      "Epoch 10/20\n",
      "54000/54000 [==============================] - 54s 1ms/sample - loss: 0.0142 - accuracy: 0.9954 - val_loss: 0.0587 - val_accuracy: 0.9870\n",
      "Epoch 11/20\n",
      "54000/54000 [==============================] - 52s 962us/sample - loss: 0.0128 - accuracy: 0.9960 - val_loss: 0.0704 - val_accuracy: 0.9875\n",
      "Epoch 12/20\n",
      "54000/54000 [==============================] - 54s 992us/sample - loss: 0.0155 - accuracy: 0.9946 - val_loss: 0.0615 - val_accuracy: 0.9865\n",
      "Epoch 13/20\n",
      "54000/54000 [==============================] - 55s 1ms/sample - loss: 0.0141 - accuracy: 0.9957 - val_loss: 0.0640 - val_accuracy: 0.9868\n",
      "Epoch 14/20\n",
      "54000/54000 [==============================] - 55s 1ms/sample - loss: 0.0101 - accuracy: 0.9969 - val_loss: 0.0739 - val_accuracy: 0.9860\n",
      "Epoch 15/20\n",
      "54000/54000 [==============================] - 59s 1ms/sample - loss: 0.0108 - accuracy: 0.9962 - val_loss: 0.0693 - val_accuracy: 0.9885\n",
      "Epoch 16/20\n",
      "54000/54000 [==============================] - 66s 1ms/sample - loss: 0.0123 - accuracy: 0.9961 - val_loss: 0.0596 - val_accuracy: 0.9890\n",
      "Epoch 17/20\n",
      "54000/54000 [==============================] - 66s 1ms/sample - loss: 0.0067 - accuracy: 0.9978 - val_loss: 0.0766 - val_accuracy: 0.9885\n",
      "Epoch 18/20\n",
      "54000/54000 [==============================] - 62s 1ms/sample - loss: 0.0114 - accuracy: 0.9961 - val_loss: 0.0770 - val_accuracy: 0.9865\n",
      "Epoch 19/20\n",
      "54000/54000 [==============================] - 60s 1ms/sample - loss: 0.0106 - accuracy: 0.9969 - val_loss: 0.0931 - val_accuracy: 0.9858\n",
      "Epoch 20/20\n",
      "54000/54000 [==============================] - 61s 1ms/sample - loss: 0.0118 - accuracy: 0.9966 - val_loss: 0.0758 - val_accuracy: 0.9872\n"
     ]
    }
   ],
   "source": [
    "cnn.compile('adam', 'categorical_crossentropy', metrics=['accuracy'])\n",
    "history_cnn = cnn.fit(X_train_images, y_train,\n",
    "                     batch_size=128, epochs=20, verbose=1,\n",
    "                     validation_split=.1)"
   ]
  },
  {
   "cell_type": "markdown",
   "metadata": {},
   "source": [
    "# Visualizing"
   ]
  },
  {
   "cell_type": "code",
   "execution_count": 18,
   "metadata": {},
   "outputs": [
    {
     "name": "stdout",
     "output_type": "stream",
     "text": [
      "10000/10000 [==============================] - 4s 415us/sample - loss: 0.0784 - accuracy: 0.9867\n"
     ]
    },
    {
     "data": {
      "text/plain": [
       "[0.07839020450537532, 0.9867]"
      ]
     },
     "execution_count": 18,
     "metadata": {},
     "output_type": "execute_result"
    }
   ],
   "source": [
    "cnn.evaluate(X_test_images, y_test)"
   ]
  },
  {
   "cell_type": "code",
   "execution_count": 20,
   "metadata": {},
   "outputs": [
    {
     "data": {
      "text/plain": [
       "(0.9, 1.0)"
      ]
     },
     "execution_count": 20,
     "metadata": {},
     "output_type": "execute_result"
    },
    {
     "data": {
      "image/png": "[encoded data removed]",
      "text/plain": [
       "<Figure size 432x288 with 1 Axes>"
      ]
     },
     "metadata": {
      "needs_background": "light"
     },
     "output_type": "display_data"
    }
   ],
   "source": [
    "df = pd.DataFrame(history_cnn.history)\n",
    "df[['accuracy', 'val_accuracy']].plot()\n",
    "plt.ylabel('accuracy')\n",
    "plt.ylim(.9, 1)"
   ]
  },
  {
   "cell_type": "code",
   "execution_count": null,
   "metadata": {},
   "outputs": [],
   "source": []
  }
 ],
 "metadata": {
  "kernelspec": {
   "display_name": "Python 3.6 (tensorflow)",
   "language": "python",
   "name": "tensorflow"
  },
  "language_info": {
   "codemirror_mode": {
    "name": "ipython",
    "version": 3
   },
   "file_extension": ".py",
   "mimetype": "text/x-python",
   "name": "python",
   "nbconvert_exporter": "python",
   "pygments_lexer": "ipython3",
   "version": "3.6.10"
  }
 },
 "nbformat": 4,
 "nbformat_minor": 4
}
