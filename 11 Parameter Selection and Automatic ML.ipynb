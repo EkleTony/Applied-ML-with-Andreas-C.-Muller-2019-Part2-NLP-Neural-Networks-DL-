{
 "cells": [
  {
   "cell_type": "markdown",
   "metadata": {},
   "source": [
    "# Paramete Tuning and Automatic ML\n",
    "\n",
    "# The Goal and Motivation:\n",
    "* Need to select among models\n",
    "* Need to select Hyper-Parameters\n",
    "* Need to select among preprocessing methods\n",
    "\n",
    "# Conditional Hyper -Parameter\n",
    "\n",
    "* Kernels\n",
    "* Neural Nets\n",
    "* Pipelines"
   ]
  },
  {
   "cell_type": "code",
   "execution_count": null,
   "metadata": {},
   "outputs": [],
   "source": []
  }
 ],
 "metadata": {
  "kernelspec": {
   "display_name": "Python 3.6 (tensorflow)",
   "language": "python",
   "name": "tensorflow"
  },
  "language_info": {
   "codemirror_mode": {
    "name": "ipython",
    "version": 3
   },
   "file_extension": ".py",
   "mimetype": "text/x-python",
   "name": "python",
   "nbconvert_exporter": "python",
   "pygments_lexer": "ipython3",
   "version": "3.6.10"
  }
 },
 "nbformat": 4,
 "nbformat_minor": 4
}
